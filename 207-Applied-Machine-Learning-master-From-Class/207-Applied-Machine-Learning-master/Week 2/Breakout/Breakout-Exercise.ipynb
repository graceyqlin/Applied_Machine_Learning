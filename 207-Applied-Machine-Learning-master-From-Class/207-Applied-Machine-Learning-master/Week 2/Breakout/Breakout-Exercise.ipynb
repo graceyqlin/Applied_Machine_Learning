{
 "cells": [
  {
   "cell_type": "markdown",
   "metadata": {},
   "source": [
    "# Predicting Democratic Victory\n",
    "\n",
    "The goal here is to use county demographics and election data to predict whether a Democratic or Republican contender for president will win in the next election."
   ]
  },
  {
   "cell_type": "code",
   "execution_count": 49,
   "metadata": {
    "collapsed": false
   },
   "outputs": [
    {
     "data": {
      "image/png": "[encoded data removed]",
      "text/plain": [
       "<matplotlib.figure.Figure at 0x108768610>"
      ]
     },
     "metadata": {},
     "output_type": "display_data"
    }
   ],
   "source": [
    "import re, os, csv\n",
    "import matplotlib.pyplot as plt\n",
    "import numpy as np\n",
    "from numpy import genfromtxt\n",
    "\n",
    "electiondata = genfromtxt('votes-trunc.csv', delimiter=',',names = True)\n",
    "\n",
    "#electiondata = np.transpose(electiondata)\n",
    "\n",
    "pctdem = electiondata['pctdem2016']\n",
    "\n",
    "white = electiondata['White']\n",
    "\n",
    "black = electiondata['Black']\n",
    "\n",
    "hispanic =  electiondata['Hispanic']\n",
    "\n",
    "demvictory = np.where(pctdem > .5, 1, 0)\n",
    "\n",
    "plt.hist(pctdem)\n",
    "plt.show()"
   ]
  },
  {
   "cell_type": "markdown",
   "metadata": {},
   "source": [
    "# Goals\n",
    "\n",
    "1. Define the variables \"White\", \"Black\" and \"Hispanic\" as your features.\n",
    "\n",
    "2. Train a nearest neighbors classifier similar to the one that we used for the Boston dataset to predict Democratic victory using these features.\n",
    "\n",
    "3. Report the accuracy. \n"
   ]
  },
  {
   "cell_type": "code",
   "execution_count": 53,
   "metadata": {
    "collapsed": false
   },
   "outputs": [],
   "source": [
    "features = np.concatenate((white, black, hispanic))\n"
   ]
  }
 ],
 "metadata": {
  "anaconda-cloud": {},
  "kernelspec": {
   "display_name": "Python [conda root]",
   "language": "python",
   "name": "conda-root-py"
  },
  "language_info": {
   "codemirror_mode": {
    "name": "ipython",
    "version": 2
   },
   "file_extension": ".py",
   "mimetype": "text/x-python",
   "name": "python",
   "nbconvert_exporter": "python",
   "pygments_lexer": "ipython2",
   "version": "2.7.12"
  }
 },
 "nbformat": 4,
 "nbformat_minor": 1
}
