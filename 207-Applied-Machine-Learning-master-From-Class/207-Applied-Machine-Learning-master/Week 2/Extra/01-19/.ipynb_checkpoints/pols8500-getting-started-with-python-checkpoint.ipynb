{
 "cells": [
  {
   "cell_type": "markdown",
   "metadata": {},
   "source": [
    "# Introduction to Python and Jupyter Notebooks"
   ]
  },
  {
   "cell_type": "markdown",
   "metadata": {},
   "source": [
    "## Why you should learn Python"
   ]
  },
  {
   "cell_type": "markdown",
   "metadata": {},
   "source": [
    "Python is an awesome, high-level programming language. It is designed primarily for readability and has some odd quirks that force you to program in a clean and consistent manner.\n",
    "\n",
    "Python notebooks (Jupyter notebook) are a great way of organizing, running and displaying your code. The Jupyter notebook contains everything you need for this machine learning class including the following packages that will be discussed in this tutorial:\n",
    "\n",
    "- NumPy 1.9.1+\n",
    "- SciPy 0.14.0+\n",
    "- scikit-learn 0.15.2+\n",
    "- matplotlib 1.4.0+\n",
    "- pandas 0.15.0+\n",
    "- NLTK "
   ]
  },
  {
   "cell_type": "markdown",
   "metadata": {},
   "source": [
    "## Getting started with Python and Jupyter Notebooks"
   ]
  },
  {
   "cell_type": "markdown",
   "metadata": {},
   "source": [
    "**Step 1**: Download and install Anaconda (Python 2.7 version) for your operating system: [https://www.continuum.io/downloads](https://www.continuum.io/downloads).\n",
    "\n",
    "**Step 2**: Start the Jupyter Notebook by typing\n",
    "```\n",
    "jupyter notebook\n",
    "```\n",
    "in your Windows Command Prompt, Mac or Linux terminal.\n",
    "\n",
    "**Step 3**: Your browser should open up a website looking thingy that has Jupyter on the upper left-hand corner. If that happens, then congratulations, you sucessfully installed Jupyter and all of the packages that we need. If not, then come talk to me.\n",
    "\n",
    "**Step 4**: Save the notebook file \"Intro-to-Python.ipynb\" which can be found on our [course GitHub site in the \"Week 2\" folder](https://github.com/ljanastas/pols8500_applied_machine_learning) and open it, I will guide you through this notebook in Week 2's lecture."
   ]
  }
 ],
 "metadata": {
  "anaconda-cloud": {},
  "kernelspec": {
   "display_name": "Python [conda root]",
   "language": "python",
   "name": "conda-root-py"
  },
  "language_info": {
   "codemirror_mode": {
    "name": "ipython",
    "version": 2
   },
   "file_extension": ".py",
   "mimetype": "text/x-python",
   "name": "python",
   "nbconvert_exporter": "python",
   "pygments_lexer": "ipython2",
   "version": "2.7.12"
  }
 },
 "nbformat": 4,
 "nbformat_minor": 1
}
