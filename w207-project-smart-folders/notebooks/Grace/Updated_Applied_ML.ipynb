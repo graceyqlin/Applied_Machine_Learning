{
 "cells": [
  {
   "cell_type": "code",
   "execution_count": 16,
   "metadata": {
    "collapsed": true
   },
   "outputs": [],
   "source": [
    "import pandas as pd\n",
    "from collections import Counter\n",
    "from sklearn.utils import shuffle\n",
    "from sklearn.grid_search import GridSearchCV\n",
    "from sklearn.neighbors import KNeighborsClassifier\n",
    "from sklearn.metrics import f1_score\n",
    "import email"
   ]
  },
  {
   "cell_type": "code",
   "execution_count": 22,
   "metadata": {
    "collapsed": true
   },
   "outputs": [],
   "source": [
    "# This tells matplotlib not to try opening a new window for each plot.\n",
    "%matplotlib inline\n",
    "\n",
    "# General libraries.\n",
    "import re\n",
    "import numpy as np\n",
    "import matplotlib.pyplot as plt\n",
    "\n",
    "# SK-learn libraries for learning.\n",
    "from sklearn.pipeline import Pipeline\n",
    "from sklearn.neighbors import KNeighborsClassifier\n",
    "from sklearn.linear_model import LogisticRegression\n",
    "from sklearn.naive_bayes import BernoulliNB\n",
    "from sklearn.naive_bayes import MultinomialNB\n",
    "from sklearn.grid_search import GridSearchCV\n",
    "from sklearn.metrics import f1_score\n",
    "\n",
    "\n",
    "\n",
    "# SK-learn libraries for evaluation.\n",
    "from sklearn.metrics import confusion_matrix\n",
    "from sklearn import metrics\n",
    "from sklearn.metrics import classification_report\n",
    "\n",
    "# SK-learn library for importing the newsgroup data.\n",
    "from sklearn.datasets import fetch_20newsgroups\n",
    "\n",
    "# SK-learn libraries for feature extraction from text.\n",
    "from sklearn.feature_extraction.text import *\n",
    "from sklearn.feature_extraction.text import CountVectorizer\n",
    "\n",
    "# Other libraries\n",
    "from scipy.sparse import csr_matrix\n",
    "import matplotlib.pyplot as plt"
   ]
  },
  {
   "cell_type": "code",
   "execution_count": 6,
   "metadata": {
    "collapsed": true
   },
   "outputs": [],
   "source": [
    "emails = pd.read_csv(\"emails.csv\")"
   ]
  },
  {
   "cell_type": "code",
   "execution_count": 7,
   "metadata": {},
   "outputs": [
    {
     "name": "stdout",
     "output_type": "stream",
     "text": [
      "(517401, 2)\n"
     ]
    }
   ],
   "source": [
    "print(emails.shape)"
   ]
  },
  {
   "cell_type": "code",
   "execution_count": 8,
   "metadata": {},
   "outputs": [
    {
     "name": "stdout",
     "output_type": "stream",
     "text": [
      "This dataset has 517401 records and 2 features\n"
     ]
    }
   ],
   "source": [
    "print(\"This dataset has\",emails.shape[0],\"records and\",emails.shape[1],\"features\")"
   ]
  },
  {
   "cell_type": "code",
   "execution_count": 9,
   "metadata": {},
   "outputs": [
    {
     "data": {
      "text/html": [
       "<div>\n",
       "<style>\n",
       "    .dataframe thead tr:only-child th {\n",
       "        text-align: right;\n",
       "    }\n",
       "\n",
       "    .dataframe thead th {\n",
       "        text-align: left;\n",
       "    }\n",
       "\n",
       "    .dataframe tbody tr th {\n",
       "        vertical-align: top;\n",
       "    }\n",
       "</style>\n",
       "<table border=\"1\" class=\"dataframe\">\n",
       "  <thead>\n",
       "    <tr style=\"text-align: right;\">\n",
       "      <th></th>\n",
       "      <th>file</th>\n",
       "      <th>message</th>\n",
       "    </tr>\n",
       "  </thead>\n",
       "  <tbody>\n",
       "    <tr>\n",
       "      <th>0</th>\n",
       "      <td>allen-p/_sent_mail/1.</td>\n",
       "      <td>Message-ID: &lt;18782981.1075855378110.JavaMail.e...</td>\n",
       "    </tr>\n",
       "    <tr>\n",
       "      <th>1</th>\n",
       "      <td>allen-p/_sent_mail/10.</td>\n",
       "      <td>Message-ID: &lt;15464986.1075855378456.JavaMail.e...</td>\n",
       "    </tr>\n",
       "    <tr>\n",
       "      <th>2</th>\n",
       "      <td>allen-p/_sent_mail/100.</td>\n",
       "      <td>Message-ID: &lt;24216240.1075855687451.JavaMail.e...</td>\n",
       "    </tr>\n",
       "    <tr>\n",
       "      <th>3</th>\n",
       "      <td>allen-p/_sent_mail/1000.</td>\n",
       "      <td>Message-ID: &lt;13505866.1075863688222.JavaMail.e...</td>\n",
       "    </tr>\n",
       "    <tr>\n",
       "      <th>4</th>\n",
       "      <td>allen-p/_sent_mail/1001.</td>\n",
       "      <td>Message-ID: &lt;30922949.1075863688243.JavaMail.e...</td>\n",
       "    </tr>\n",
       "  </tbody>\n",
       "</table>\n",
       "</div>"
      ],
      "text/plain": [
       "                       file                                            message\n",
       "0     allen-p/_sent_mail/1.  Message-ID: <18782981.1075855378110.JavaMail.e...\n",
       "1    allen-p/_sent_mail/10.  Message-ID: <15464986.1075855378456.JavaMail.e...\n",
       "2   allen-p/_sent_mail/100.  Message-ID: <24216240.1075855687451.JavaMail.e...\n",
       "3  allen-p/_sent_mail/1000.  Message-ID: <13505866.1075863688222.JavaMail.e...\n",
       "4  allen-p/_sent_mail/1001.  Message-ID: <30922949.1075863688243.JavaMail.e..."
      ]
     },
     "execution_count": 9,
     "metadata": {},
     "output_type": "execute_result"
    }
   ],
   "source": [
    "emails.head()"
   ]
  },
  {
   "cell_type": "code",
   "execution_count": 10,
   "metadata": {},
   "outputs": [
    {
     "name": "stdout",
     "output_type": "stream",
     "text": [
      "Message-ID: <15464986.1075855378456.JavaMail.evans@thyme>\n",
      "Date: Fri, 4 May 2001 13:51:00 -0700 (PDT)\n",
      "From: phillip.allen@enron.com\n",
      "To: john.lavorato@enron.com\n",
      "Subject: Re:\n",
      "Mime-Version: 1.0\n",
      "Content-Type: text/plain; charset=us-ascii\n",
      "Content-Transfer-Encoding: 7bit\n",
      "X-From: Phillip K Allen\n",
      "X-To: John J Lavorato <John J Lavorato/ENRON@enronXgate@ENRON>\n",
      "X-cc: \n",
      "X-bcc: \n",
      "X-Folder: \\Phillip_Allen_Jan2002_1\\Allen, Phillip K.\\'Sent Mail\n",
      "X-Origin: Allen-P\n",
      "X-FileName: pallen (Non-Privileged).pst\n",
      "\n",
      "Traveling to have a business meeting takes the fun out of the trip.  Especially if you have to prepare a presentation.  I would suggest holding the business plan meetings here then take a trip without any formal business meetings.  I would even try and get some honest opinions on whether a trip is even desired or necessary.\n",
      "\n",
      "As far as the business meetings, I think it would be more productive to try and stimulate discussions across the different groups about what is working and what is not.  Too often the presenter speaks and the others are quiet just waiting for their turn.   The meetings might be better if held in a round table discussion format.  \n",
      "\n",
      "My suggestion for where to go is Austin.  Play golf and rent a ski boat and jet ski's.  Flying somewhere takes too much time.\n",
      "\n"
     ]
    }
   ],
   "source": [
    "print(emails[\"message\"][1])"
   ]
  },
  {
   "cell_type": "code",
   "execution_count": 11,
   "metadata": {
    "scrolled": true
   },
   "outputs": [
    {
     "name": "stdout",
     "output_type": "stream",
     "text": [
      "{'delainey-d', 'lucci-p', 'steffes-j', 'arora-h', 'presto-k', 'mcconnell-m', 'farmer-d', 'mckay-b', 'mccarty-d', 'reitmeyer-j', 'haedicke-m', 'staab-t', 'shapiro-r', 'swerzbin-m', 'bass-e', 'scholtes-d', 'holst-k', 'shackleton-s', 'fossum-d', 'bailey-s', 'scott-s', 'symes-k', 'mims-thurston-p', 'lewis-a', 'ring-r', 'slinger-r', 'smith-m', 'watson-k', 'ward-k', 'cash-m', 'pimenov-v', 'kean-s', 'south-s', 'sanders-r', 'jones-t', 'brawner-s', 'whalley-g', 'ermis-f', 'maggi-m', 'mann-k', 'guzman-m', 'mckay-j', 'ybarbo-p', 'forney-j', 'giron-d', 'hayslett-r', 'geaccone-t', 'gilbertsmith-d', 'shively-h', 'king-j', 'mclaughlin-e', 'keavey-p', 'thomas-p', 'whalley-l', 'ruscitti-k', 'townsend-j', 'dorland-c', 'arnold-j', 'skilling-j', 'kaminski-v', 'donoho-l', 'buy-r', 'benson-r', 'hernandez-j', 'germany-c', 'rapp-b', 'tholt-j', 'corman-s', 'lokey-t', 'tycholiz-b', 'carson-m', 'neal-s', 'platter-p', 'ring-a', 'meyers-a', 'quenet-j', 'schoolcraft-d', 'solberg-g', 'cuilla-m', 'zufferli-j', 'gay-r', 'harris-s', 'pereira-s', 'rodrique-r', 'may-l', 'gang-l', 'schwieger-j', 'stepenovitch-j', 'williams-w3', 'nemec-g', 'allen-p', 'perlingiere-d', 'rogers-b', 'sager-e', 'phanis-s', 'horton-s', 'wolfe-j', 'hyvl-d', 'love-p', 'hyatt-k', 'sanchez-m', 'merriss-s', 'crandell-s', 'saibi-e', 'beck-s', 'weldon-c', 'davis-d', 'hendrickson-s', 'kitchen-l', 'lavorato-j', 'lay-k', 'taylor-m', 'panus-s', 'zipper-a', 'shankman-j', 'stokley-c', 'derrick-j', 'dickson-s', 'keiser-k', 'blair-l', 'martin-t', 'griffith-j', 'dean-c', 'whitt-m', 'linder-e', 'fischer-m', 'stclair-c', 'lenhart-m', 'hain-m', 'quigley-d', 'kuykendall-t', 'donohoe-t', 'badeer-r', 'dasovich-j', 'white-s', 'baughman-d', 'hodge-j', 'heard-m', 'grigsby-m', 'lokay-m', 'sturm-f', 'richey-c', 'semperger-c', 'causholli-m', 'motley-m', 'salisbury-h', 'parks-j', 'williams-j', 'campbell-l', 'storey-g'}\n"
     ]
    }
   ],
   "source": [
    "fils = emails['file']\n",
    "sub_fils = [x.split('/')[0] for x in fils]\n",
    "print(set(sub_fils))"
   ]
  },
  {
   "cell_type": "code",
   "execution_count": 12,
   "metadata": {},
   "outputs": [
    {
     "name": "stdout",
     "output_type": "stream",
     "text": [
      "('kaminski-v', 28465)\n",
      "('dasovich-j', 28234)\n"
     ]
    }
   ],
   "source": [
    "Top1 = Counter(sub_fils).most_common()[0]\n",
    "Top2 = Counter(sub_fils).most_common()[1]\n",
    "print(Top1)\n",
    "print(Top2)"
   ]
  },
  {
   "cell_type": "code",
   "execution_count": 13,
   "metadata": {},
   "outputs": [
    {
     "name": "stdout",
     "output_type": "stream",
     "text": [
      "                                                    text       label\n",
      "43053  Message-ID: <30057866.1075856354187.JavaMail.e...  kaminski-v\n",
      "22974  Message-ID: <2751714.1075851612455.JavaMail.ev...  dasovich-j\n",
      "35993  Message-ID: <31913536.1075856288252.JavaMail.e...  kaminski-v\n",
      "47059  Message-ID: <29088086.1075856811113.JavaMail.e...  kaminski-v\n",
      "54613  Message-ID: <20032068.1075856932223.JavaMail.e...  kaminski-v\n"
     ]
    }
   ],
   "source": [
    "output = []\n",
    "for ind, row in emails.iterrows():\n",
    "#     if ind > 1000:\n",
    "#         break\n",
    "    label = row['file'].split('/')[0]\n",
    "    text = row['message']\n",
    "    if label == 'kaminski-v' or label == 'dasovich-j':\n",
    "        output.append([text, label])\n",
    "\n",
    "df = pd.DataFrame(output, columns = ['text', 'label'])\n",
    "df = shuffle(df)\n",
    "print(df.head())"
   ]
  },
  {
   "cell_type": "code",
   "execution_count": 14,
   "metadata": {
    "collapsed": true
   },
   "outputs": [],
   "source": [
    "df.to_csv(\"data.csv\", index = None)"
   ]
  },
  {
   "cell_type": "code",
   "execution_count": 17,
   "metadata": {
    "collapsed": true
   },
   "outputs": [],
   "source": [
    "messages = list(map(email.message_from_string, df['text']))\n",
    "\n",
    "def get_text_from_email(msg):\n",
    "    '''To get the content from email objects'''\n",
    "    parts = []\n",
    "    for part in msg.walk():\n",
    "        if part.get_content_type() == 'text/plain':\n",
    "            parts.append( part.get_payload() )\n",
    "    return ''.join(parts)\n",
    "\n",
    "df['content'] = list(map(get_text_from_email, messages))"
   ]
  },
  {
   "cell_type": "code",
   "execution_count": 18,
   "metadata": {},
   "outputs": [
    {
     "data": {
      "text/html": [
       "<div>\n",
       "<style>\n",
       "    .dataframe thead tr:only-child th {\n",
       "        text-align: right;\n",
       "    }\n",
       "\n",
       "    .dataframe thead th {\n",
       "        text-align: left;\n",
       "    }\n",
       "\n",
       "    .dataframe tbody tr th {\n",
       "        vertical-align: top;\n",
       "    }\n",
       "</style>\n",
       "<table border=\"1\" class=\"dataframe\">\n",
       "  <thead>\n",
       "    <tr style=\"text-align: right;\">\n",
       "      <th></th>\n",
       "      <th>text</th>\n",
       "      <th>label</th>\n",
       "      <th>content</th>\n",
       "    </tr>\n",
       "  </thead>\n",
       "  <tbody>\n",
       "    <tr>\n",
       "      <th>43053</th>\n",
       "      <td>Message-ID: &lt;30057866.1075856354187.JavaMail.e...</td>\n",
       "      <td>kaminski-v</td>\n",
       "      <td>Vince,\\n\\nGreetings.\\n\\nI write at this time t...</td>\n",
       "    </tr>\n",
       "    <tr>\n",
       "      <th>22974</th>\n",
       "      <td>Message-ID: &lt;2751714.1075851612455.JavaMail.ev...</td>\n",
       "      <td>dasovich-j</td>\n",
       "      <td>Talked to Mark.\\n\\nFirst thing he has to do is...</td>\n",
       "    </tr>\n",
       "    <tr>\n",
       "      <th>35993</th>\n",
       "      <td>Message-ID: &lt;31913536.1075856288252.JavaMail.e...</td>\n",
       "      <td>kaminski-v</td>\n",
       "      <td>---------------------- Forwarded by Vince J Ka...</td>\n",
       "    </tr>\n",
       "    <tr>\n",
       "      <th>47059</th>\n",
       "      <td>Message-ID: &lt;29088086.1075856811113.JavaMail.e...</td>\n",
       "      <td>kaminski-v</td>\n",
       "      <td>New market we are trying to develop in Benzene...</td>\n",
       "    </tr>\n",
       "    <tr>\n",
       "      <th>54613</th>\n",
       "      <td>Message-ID: &lt;20032068.1075856932223.JavaMail.e...</td>\n",
       "      <td>kaminski-v</td>\n",
       "      <td>---------------------- Forwarded by Vince J Ka...</td>\n",
       "    </tr>\n",
       "  </tbody>\n",
       "</table>\n",
       "</div>"
      ],
      "text/plain": [
       "                                                    text       label  \\\n",
       "43053  Message-ID: <30057866.1075856354187.JavaMail.e...  kaminski-v   \n",
       "22974  Message-ID: <2751714.1075851612455.JavaMail.ev...  dasovich-j   \n",
       "35993  Message-ID: <31913536.1075856288252.JavaMail.e...  kaminski-v   \n",
       "47059  Message-ID: <29088086.1075856811113.JavaMail.e...  kaminski-v   \n",
       "54613  Message-ID: <20032068.1075856932223.JavaMail.e...  kaminski-v   \n",
       "\n",
       "                                                 content  \n",
       "43053  Vince,\\n\\nGreetings.\\n\\nI write at this time t...  \n",
       "22974  Talked to Mark.\\n\\nFirst thing he has to do is...  \n",
       "35993  ---------------------- Forwarded by Vince J Ka...  \n",
       "47059  New market we are trying to develop in Benzene...  \n",
       "54613  ---------------------- Forwarded by Vince J Ka...  "
      ]
     },
     "execution_count": 18,
     "metadata": {},
     "output_type": "execute_result"
    }
   ],
   "source": [
    "df.head()"
   ]
  },
  {
   "cell_type": "code",
   "execution_count": 56,
   "metadata": {
    "collapsed": true
   },
   "outputs": [],
   "source": [
    "num_total = len(df['content'])\n",
    "train_data, train_labels = df.content[int(round(0.4 * num_total)):], df.label[int(round(0.4 * num_total)):]\n",
    "test_data, test_labels = df.content[:int(round(0.4 * num_total))], df.label[:int(round(0.4 * num_total))]\n"
   ]
  },
  {
   "cell_type": "code",
   "execution_count": 57,
   "metadata": {},
   "outputs": [
    {
     "name": "stdout",
     "output_type": "stream",
     "text": [
      "training dataset count 34019\n",
      "test dataset count 22680\n"
     ]
    }
   ],
   "source": [
    "print(\"training dataset count\", train_data.shape[0])\n",
    "print (\"test dataset count\", test_data.shape[0])"
   ]
  },
  {
   "cell_type": "code",
   "execution_count": 24,
   "metadata": {
    "collapsed": true
   },
   "outputs": [],
   "source": [
    "cv =CountVectorizer(stop_words='english',min_df=10)\n",
    "train_matrix = cv.fit_transform(train_data)\n",
    "test_matrix = cv.transform(test_data)"
   ]
  },
  {
   "cell_type": "code",
   "execution_count": 25,
   "metadata": {},
   "outputs": [
    {
     "data": {
      "text/plain": [
       "(34019, 28716)"
      ]
     },
     "execution_count": 25,
     "metadata": {},
     "output_type": "execute_result"
    }
   ],
   "source": [
    "train_matrix.shape"
   ]
  },
  {
   "cell_type": "code",
   "execution_count": 27,
   "metadata": {},
   "outputs": [
    {
     "name": "stdout",
     "output_type": "stream",
     "text": [
      "Size of the vocabulary is 28716\n",
      "The number of example is 34019\n"
     ]
    }
   ],
   "source": [
    "print(\"Size of the vocabulary is\", train_matrix.shape[1])    \n",
    "\n",
    "print(\"The number of example is\",train_matrix.shape[0])"
   ]
  },
  {
   "cell_type": "code",
   "execution_count": 29,
   "metadata": {},
   "outputs": [
    {
     "data": {
      "text/plain": [
       "(34019, 26151)"
      ]
     },
     "execution_count": 29,
     "metadata": {},
     "output_type": "execute_result"
    }
   ],
   "source": [
    "features_raw = np.array(cv.get_feature_names())\n",
    "\n",
    "features = list(np.array(list(map(lambda x: re.sub(r\"[^a-zA-Z]\", \"\", x), features_raw))))[1:]\n",
    "features = list(set(features))\n",
    "\n",
    "cv2=CountVectorizer(stop_words='english', lowercase=True,vocabulary=features, max_df=0.4)\n",
    "train_matrix_post = cv2.transform(train_data)\n",
    "train_matrix_post.shape"
   ]
  },
  {
   "cell_type": "code",
   "execution_count": 30,
   "metadata": {
    "collapsed": true
   },
   "outputs": [],
   "source": [
    "test_matrix = cv2.transform(test_data)"
   ]
  },
  {
   "cell_type": "code",
   "execution_count": 31,
   "metadata": {},
   "outputs": [
    {
     "name": "stdout",
     "output_type": "stream",
     "text": [
      "Multinomial Naive Bayes f1 score is 0.91396848255\n"
     ]
    }
   ],
   "source": [
    " ### Multinomial Naive Bayes\n",
    "mnb = MultinomialNB(alpha=0.1)\n",
    "mnb.fit(train_matrix_post,train_labels)\n",
    "test_predict_mnb=mnb.predict(test_matrix)\n",
    "print(\"Multinomial Naive Bayes f1 score is\",f1_score(test_labels,test_predict_mnb,average='weighted'))\n",
    "# print(\"Multinomial Naive Bayes optimal value for alpha is\", mnb.best_params_)"
   ]
  },
  {
   "cell_type": "code",
   "execution_count": 33,
   "metadata": {},
   "outputs": [
    {
     "name": "stdout",
     "output_type": "stream",
     "text": [
      "Logistic regression f1 score is 0.978790647828\n"
     ]
    }
   ],
   "source": [
    "### logistic regression\n",
    "lr = LogisticRegression(C=0.1)\n",
    "lr.fit(train_matrix_post,train_labels)\n",
    "test_predict_lr=lr.predict(test_matrix)\n",
    "print(\"Logistic regression f1 score is\",f1_score(test_labels,test_predict_lr,average='weighted'))"
   ]
  }
 ],
 "metadata": {
  "kernelspec": {
   "display_name": "Python 2",
   "language": "python",
   "name": "python2"
  },
  "language_info": {
   "codemirror_mode": {
    "name": "ipython",
    "version": 2
   },
   "file_extension": ".py",
   "mimetype": "text/x-python",
   "name": "python",
   "nbconvert_exporter": "python",
   "pygments_lexer": "ipython2",
   "version": "2.7.13"
  }
 },
 "nbformat": 4,
 "nbformat_minor": 2
}
