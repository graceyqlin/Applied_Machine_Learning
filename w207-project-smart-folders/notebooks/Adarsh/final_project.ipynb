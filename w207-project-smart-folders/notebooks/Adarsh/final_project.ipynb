{
 "cells": [
  {
   "cell_type": "markdown",
   "metadata": {},
   "source": [
    "# Load Data"
   ]
  },
  {
   "cell_type": "code",
   "execution_count": 47,
   "metadata": {
    "collapsed": true
   },
   "outputs": [],
   "source": [
    "import re\n",
    "import pandas\n",
    "\n",
    "enron_dataset_file_name = '../../source-data/emails.csv'\n",
    "\n",
    "def clean_email_body(body):\n",
    "    return body\n",
    "\n",
    "with open(enron_dataset_file_name, 'rb') as f_in:\n",
    "    raw_email_info = f_in.read()\n",
    "\n",
    "    # Extract features we may potentially want to use (minus email body)\n",
    "    dates = re.findall(r'\\nDate: (.*)', raw_email_info)\n",
    "    sender_addresses = re.findall(r'\\nFrom: (.*)', raw_email_info)\n",
    "    recipients = re.findall(r'\\nTo: (.*)', raw_email_info)\n",
    "    subjects = re.findall(r'\\nSubject: (.*)', raw_email_info)\n",
    "    sender_names = re.findall(r'\\nX-From: (.*)', raw_email_info)\n",
    "    recipient_names = re.findall(r'\\nX-To: ([ A-Za-z]*)', raw_email_info)\n",
    "    ccs = re.findall(r'\\nX-cc: (.*)', raw_email_info)\n",
    "    bccs = re.findall(r'\\nX-bcc: (.*)', raw_email_info)\n",
    "    filename = re.findall(r'\\nX-FileName: (.*)', raw_email_info)\n",
    "    folders = re.findall(r'\"[a-zA-z-]*/(.*)/.*,\"Message-ID.*>', raw_email_info)\n",
    "\n",
    "    # Strip out all features to extract email body\n",
    "    raw_email_info = re.sub(r'\\nDate: (.*)', '', raw_email_info)\n",
    "    raw_email_info = re.sub(r'\\nFrom: (.*)', '', raw_email_info)\n",
    "    raw_email_info = re.sub(r'\\nTo: (.*)', '', raw_email_info)\n",
    "    raw_email_info = re.sub(r'\\nSubject: (.*)', '', raw_email_info)\n",
    "    raw_email_info = re.sub(r'\\nX-From: (.*)', '', raw_email_info)\n",
    "    raw_email_info = re.sub(r'\\nX-To: ([ A-Za-z]*)', '', raw_email_info)\n",
    "    raw_email_info = re.sub(r'\\nX-cc: (.*)', '', raw_email_info)\n",
    "    raw_email_info = re.sub(r'\\nX-bcc: (.*)', '', raw_email_info)\n",
    "    raw_email_info = re.sub(r'\\nX-Folder: (.*)', '', raw_email_info)\n",
    "\n",
    "    raw_email_info = re.sub(r'\"file\",\"message\"', '', raw_email_info)\n",
    "    raw_email_info = re.sub(r'\\nMime-Version: (.*)', '', raw_email_info)\n",
    "    raw_email_info = re.sub(r'\\nContent-Type: (.*)', '', raw_email_info)\n",
    "    raw_email_info = re.sub(r'\\nContent-Transfer-Encoding: (.*)', '', raw_email_info)\n",
    "    raw_email_info = re.sub(r'\\nX-Origin: (.*)', '', raw_email_info)\n",
    "    raw_email_info = re.sub(r'\\nX-FileName: (.*)', '', raw_email_info)\n",
    "    raw_email_info = re.sub(r'\".*Message-ID.*>', 'file_name_and_message_id', raw_email_info)\n",
    "\n",
    "    bodies = [clean_email_body(body) for body in raw_email_info.split('file_name_and_message_id')[1:]]\n",
    "\n",
    "    email_data = zip(dates,\n",
    "                     sender_addresses,\n",
    "                     recipients,\n",
    "                     subjects,\n",
    "                     sender_names,\n",
    "                     recipient_names,\n",
    "                     ccs,\n",
    "                     bccs,\n",
    "                     folders,\n",
    "                     filename,\n",
    "                     bodies)\n",
    "\n",
    "    # Stick features into a dataframe to make it easy to query and filter out data\n",
    "    df = pandas.DataFrame(email_data, columns=['date',\n",
    "                                               'sender_address',\n",
    "                                               'recipient',\n",
    "                                               'subject',\n",
    "                                               'sender_name',\n",
    "                                               'recipient_name',\n",
    "                                               'cc',\n",
    "                                               'bcc',\n",
    "                                               'folder',\n",
    "                                               'filename',\n",
    "                                               'body'])"
   ]
  },
  {
   "cell_type": "code",
   "execution_count": null,
   "metadata": {
    "collapsed": true
   },
   "outputs": [],
   "source": [
    "df.head()"
   ]
  },
  {
   "cell_type": "markdown",
   "metadata": {},
   "source": [
    "# Text Data Cleansing"
   ]
  },
  {
   "cell_type": "code",
   "execution_count": 127,
   "metadata": {
    "collapsed": true
   },
   "outputs": [],
   "source": [
    "# from nltk.tokenize import RegexpTokenizer\n",
    "# from stop_words import get_stop_words\n",
    "# from nltk.stem.porter import PorterStemmer\n",
    "# from collections import Counter\n",
    "# from sklearn.utils import shuffle\n",
    "# from sklearn.metrics import f1_score\n",
    "# from sklearn.feature_extraction.text import TfidfVectorizer, CountVectorizer\n",
    "# from gensim import corpora, models\n",
    "# import gensim\n",
    "# import numpy as np"
   ]
  },
  {
   "cell_type": "code",
   "execution_count": 128,
   "metadata": {
    "collapsed": true
   },
   "outputs": [],
   "source": [
    "# def clean_body_text(body):\n",
    "\n",
    "#     tokenizer = RegexpTokenizer(r'\\w+')\n",
    "\n",
    "#     # create English stop words list\n",
    "#     en_stop = get_stop_words('en')\n",
    "\n",
    "#     # Create p_stemmer of class PorterStemmer\n",
    "#     p_stemmer = PorterStemmer()\n",
    "\n",
    "#     # clean and tokenize document string\n",
    "#     tokens = tokenizer.tokenize(body)\n",
    "\n",
    "#     # remove all numbers\n",
    "#     tokens = [x for x in tokens if not (x.isdigit() or x[0] == '-' and x[1:].isdigit())]\n",
    "    \n",
    "#     # remove structural words\n",
    "#     tokens = [x for x in tokens if len(x) > 1]\n",
    "#     tokens = [x.lower() for x in tokens]\n",
    "#     tokens = [x for x in tokens if 'http' not in x]\n",
    "#     tokens = [x for x in tokens if x not in \"_\"]\n",
    "    \n",
    "#     # remove stop words from tokens\n",
    "#     stopped_tokens = [i for i in tokens if not i in en_stop]\n",
    "    \n",
    "#     # stem tokens\n",
    "#     stemmed_tokens = [p_stemmer.stem(i) for i in stopped_tokens]\n",
    "    \n",
    "#     return stemmed_tokens\n",
    "\n",
    "# df['body'].apply(clean_body_text)\n",
    "# df.head()"
   ]
  },
  {
   "cell_type": "markdown",
   "metadata": {},
   "source": [
    "# Supervised Learning: Per-User Auto-Sorting"
   ]
  },
  {
   "cell_type": "markdown",
   "metadata": {},
   "source": [
    "## Feature Engineering"
   ]
  },
  {
   "cell_type": "markdown",
   "metadata": {},
   "source": [
    "### Filter out system folders that are not relevent for sort predictions"
   ]
  },
  {
   "cell_type": "code",
   "execution_count": 129,
   "metadata": {},
   "outputs": [
    {
     "name": "stdout",
     "output_type": "stream",
     "text": [
      "(513954, 11)\n",
      "(73051, 11)\n"
     ]
    },
    {
     "data": {
      "text/html": [
       "<div>\n",
       "<style>\n",
       "    .dataframe thead tr:only-child th {\n",
       "        text-align: right;\n",
       "    }\n",
       "\n",
       "    .dataframe thead th {\n",
       "        text-align: left;\n",
       "    }\n",
       "\n",
       "    .dataframe tbody tr th {\n",
       "        vertical-align: top;\n",
       "    }\n",
       "</style>\n",
       "<table border=\"1\" class=\"dataframe\">\n",
       "  <thead>\n",
       "    <tr style=\"text-align: right;\">\n",
       "      <th></th>\n",
       "      <th>date</th>\n",
       "      <th>sender_address</th>\n",
       "      <th>recipient</th>\n",
       "      <th>subject</th>\n",
       "      <th>sender_name</th>\n",
       "      <th>recipient_name</th>\n",
       "      <th>cc</th>\n",
       "      <th>bcc</th>\n",
       "      <th>folder</th>\n",
       "      <th>filename</th>\n",
       "      <th>body</th>\n",
       "    </tr>\n",
       "  </thead>\n",
       "  <tbody>\n",
       "    <tr>\n",
       "      <th>1230</th>\n",
       "      <td>Tue, 24 Oct 2000 05:16:00 -0700 (PDT)</td>\n",
       "      <td>phillip.allen@enron.com</td>\n",
       "      <td>Cheryl Wilchynski/HR/Corp/Enron@ENRON, Cindy R...</td>\n",
       "      <td>\"\"Save the Date\"\" - Associate / Analyst Program</td>\n",
       "      <td>Outlook-Migration-Team &lt;/O=ENRON/OU=NA/CN=RECI...</td>\n",
       "      <td></td>\n",
       "      <td></td>\n",
       "      <td></td>\n",
       "      <td>contacts</td>\n",
       "      <td>pallen (Non-Privileged).pst</td>\n",
       "      <td>\\n\\nloan servicing-jessica weeber 800-393-5626...</td>\n",
       "    </tr>\n",
       "    <tr>\n",
       "      <th>1231</th>\n",
       "      <td>Mon, 23 Oct 2000 08:55:00 -0700 (PDT)</td>\n",
       "      <td>phillip.allen@enron.com</td>\n",
       "      <td>phillip.allen@enron.com, robina.barker-bennett...</td>\n",
       "      <td></td>\n",
       "      <td>Outlook-Migration-Team &lt;/O=ENRON/OU=NA/CN=RECI...</td>\n",
       "      <td></td>\n",
       "      <td></td>\n",
       "      <td></td>\n",
       "      <td>contacts</td>\n",
       "      <td>pallen (Non-Privileged).pst</td>\n",
       "      <td>\\n\\nexit mccollough off 410\"\\n</td>\n",
       "    </tr>\n",
       "  </tbody>\n",
       "</table>\n",
       "</div>"
      ],
      "text/plain": [
       "                                       date           sender_address  \\\n",
       "1230  Tue, 24 Oct 2000 05:16:00 -0700 (PDT)  phillip.allen@enron.com   \n",
       "1231  Mon, 23 Oct 2000 08:55:00 -0700 (PDT)  phillip.allen@enron.com   \n",
       "\n",
       "                                              recipient  \\\n",
       "1230  Cheryl Wilchynski/HR/Corp/Enron@ENRON, Cindy R...   \n",
       "1231  phillip.allen@enron.com, robina.barker-bennett...   \n",
       "\n",
       "                                               subject  \\\n",
       "1230   \"\"Save the Date\"\" - Associate / Analyst Program   \n",
       "1231                                                     \n",
       "\n",
       "                                            sender_name recipient_name cc bcc  \\\n",
       "1230  Outlook-Migration-Team </O=ENRON/OU=NA/CN=RECI...                         \n",
       "1231  Outlook-Migration-Team </O=ENRON/OU=NA/CN=RECI...                         \n",
       "\n",
       "        folder                     filename  \\\n",
       "1230  contacts  pallen (Non-Privileged).pst   \n",
       "1231  contacts  pallen (Non-Privileged).pst   \n",
       "\n",
       "                                                   body  \n",
       "1230  \\n\\nloan servicing-jessica weeber 800-393-5626...  \n",
       "1231                     \\n\\nexit mccollough off 410\"\\n  "
      ]
     },
     "execution_count": 129,
     "metadata": {},
     "output_type": "execute_result"
    }
   ],
   "source": [
    "# WIP: remove folders that are most likely computer generated\n",
    "new_df = df[\n",
    "    (df.folder != '_sent_mail') &\n",
    "    (df.folder != 'all_documents') &\n",
    "    (df.folder != 'deleted_items') &\n",
    "    (df.folder != 'inbox') &\n",
    "    (df.folder != 'discussion_threads') &\n",
    "    (df.folder != 'notes_inbox') &\n",
    "    (df.folder != 'sent_items') &\n",
    "    (df.folder != 'sent')\n",
    "]\n",
    "\n",
    "print df.shape\n",
    "print new_df.shape\n",
    "new_df.head(2)"
   ]
  },
  {
   "cell_type": "markdown",
   "metadata": {},
   "source": [
    "### Drop unusable rows, create a new people column"
   ]
  },
  {
   "cell_type": "code",
   "execution_count": 130,
   "metadata": {},
   "outputs": [
    {
     "name": "stdout",
     "output_type": "stream",
     "text": [
      "Shape of dataframe: (73051, 11)\n"
     ]
    }
   ],
   "source": [
    "# Drop rows without Subject\n",
    "new_df = new_df.dropna(subset=['subject', 'body'])\n",
    "print 'Shape of dataframe: ' + str(new_df.shape)\n",
    "\n",
    "# Create a new column that merges CC, To, From\n",
    "new_df['cc'].fillna('', inplace=True)\n",
    "new_df['bcc'].fillna('', inplace=True)\n",
    "new_df['sender_address'].fillna('', inplace=True)\n",
    "new_df['recipient'].fillna('', inplace=True)\n",
    "new_df['people'] = new_df['sender_address'] + ',' + new_df['cc'] + ',' + new_df['bcc'] + ',' + new_df['recipient']"
   ]
  },
  {
   "cell_type": "code",
   "execution_count": 132,
   "metadata": {},
   "outputs": [
    {
     "data": {
      "text/plain": [
       "1230    phillip.allen@enron.com,,,Cheryl Wilchynski/HR...\n",
       "1231    phillip.allen@enron.com,,,phillip.allen@enron....\n",
       "3026    phillip.allen@enron.com,,,richard.morgan@austi...\n",
       "3027    phillip.allen@enron.com,strawbale@crest.org,,g...\n",
       "3028    phillip.allen@enron.com,moore.john.e@worldnet....\n",
       "Name: people, dtype: object"
      ]
     },
     "execution_count": 132,
     "metadata": {},
     "output_type": "execute_result"
    }
   ],
   "source": [
    "new_df['people'][0:5]"
   ]
  },
  {
   "cell_type": "markdown",
   "metadata": {},
   "source": [
    "### Segment data by recipient, to train one model per-user"
   ]
  },
  {
   "cell_type": "code",
   "execution_count": 133,
   "metadata": {},
   "outputs": [
    {
     "name": "stdout",
     "output_type": "stream",
     "text": [
      "Number of users in the data set: 267\n"
     ]
    }
   ],
   "source": [
    "# Create a new column that merges CC, To, From\n",
    "def extract_user(text):\n",
    "    m = re.search(r'^([^\\. ]*)[\\. ]', text)\n",
    "    if m:\n",
    "        return m.group(1)\n",
    "    return ''\n",
    "\n",
    "new_df['user'] = new_df['filename'].apply(extract_user)\n",
    "\n",
    "user_groups = new_df.groupby('user')\n",
    "users = user_groups.groups.keys()\n",
    "print 'Number of users in the data set: ' + str(len(users))"
   ]
  },
  {
   "cell_type": "code",
   "execution_count": 135,
   "metadata": {},
   "outputs": [
    {
     "data": {
      "text/plain": [
       "19859    dbaughm\n",
       "19860    dbaughm\n",
       "19861    dbaughm\n",
       "19862    dbaughm\n",
       "19863    dbaughm\n",
       "Name: user, dtype: object"
      ]
     },
     "execution_count": 135,
     "metadata": {},
     "output_type": "execute_result"
    }
   ],
   "source": [
    "new_df['user'][1000:1005]"
   ]
  },
  {
   "cell_type": "markdown",
   "metadata": {},
   "source": [
    "### Run per-user logistic regression, record accuracy\n",
    "\n",
    "This run includes only subject & people, and uses basic logistic regression"
   ]
  },
  {
   "cell_type": "code",
   "execution_count": 122,
   "metadata": {},
   "outputs": [
    {
     "name": "stdout",
     "output_type": "stream",
     "text": [
      "\n",
      "\n",
      "Total number of users analyzed == 97\n",
      "Average accuracy for Logistic Regression: 0.510636285778\n"
     ]
    },
    {
     "data": {
      "image/png": "[encoded data removed]",
      "text/plain": [
       "<matplotlib.figure.Figure at 0x15764ff10>"
      ]
     },
     "metadata": {},
     "output_type": "display_data"
    },
    {
     "data": {
      "image/png": "[encoded data removed]",
      "text/plain": [
       "<matplotlib.figure.Figure at 0x11e41e290>"
      ]
     },
     "metadata": {},
     "output_type": "display_data"
    },
    {
     "data": {
      "image/png": "[encoded data removed]",
      "text/plain": [
       "<matplotlib.figure.Figure at 0x11f705890>"
      ]
     },
     "metadata": {},
     "output_type": "display_data"
    },
    {
     "data": {
      "image/png": "[encoded data removed]",
      "text/plain": [
       "<matplotlib.figure.Figure at 0x1576a0250>"
      ]
     },
     "metadata": {},
     "output_type": "display_data"
    }
   ],
   "source": [
    "from sklearn.feature_extraction.text import CountVectorizer\n",
    "from sklearn.feature_extraction.text import TfidfTransformer\n",
    "from sklearn.model_selection import train_test_split\n",
    "from sklearn import metrics\n",
    "import scipy\n",
    "import numpy as np\n",
    "from sklearn.linear_model import LogisticRegression\n",
    "import matplotlib.pyplot as plt\n",
    "from __future__ import division\n",
    "\n",
    "def people_tokenizer(s):\n",
    "    people = s.split(',')\n",
    "    return filter(None, people)\n",
    "\n",
    "min_email_threshold = 100\n",
    "\n",
    "num_users = 0\n",
    "accuracies = []\n",
    "num_folders = []\n",
    "num_emails = []\n",
    "for user, emails in user_groups:\n",
    "    \n",
    "#     print '\\n' + str(user) + ' has ' + str(len(emails)) + ' emails in the data set.'\n",
    "#     print '-----------------------------------------------------------------'\n",
    "    \n",
    "    # skip over any users with too few emails to analyze\n",
    "    if len(emails) < min_email_threshold:\n",
    "        continue\n",
    "        \n",
    "    # Perform bag of words vectorization on Subject\n",
    "    sub_vect = CountVectorizer(stop_words='english', lowercase=True)\n",
    "    counts = sub_vect.fit_transform(emails['subject'])\n",
    "#     print 'Dimensions of subject vocabulary feature matrix are: ' + str(counts.shape)\n",
    "\n",
    "    # Convert Subject from bools to tf-idf values\n",
    "    tfidf_transformer = TfidfTransformer()\n",
    "    tfidf = tfidf_transformer.fit_transform(counts)\n",
    "\n",
    "    # Convert people column into email address counts\n",
    "    people_vec = CountVectorizer(lowercase=True, tokenizer=people_tokenizer)\n",
    "    people_counts = people_vec.fit_transform(emails['people'])\n",
    "#     print 'Dimensions of people feature matrix are: ' + str(people_counts.shape)\n",
    "\n",
    "    # Merge people counts with subject tf-idf\n",
    "    feature_matrix = scipy.sparse.hstack([people_counts, tfidf])\n",
    "#     print 'Dimensions of vectorized feature matrix: ' + str(feature_matrix.shape)\n",
    "    \n",
    "    # Split into training & test sets\n",
    "    labels_train, labels_test, features_train, features_test = train_test_split(\n",
    "        emails['folder'], feature_matrix, test_size=0.20, random_state=42)\n",
    "#     print 'Size of training feature matrix: ' + str(features_train.shape)\n",
    "#     print 'Size of test feature matrix: ' + str(features_test.shape)\n",
    "    \n",
    "    # Multiclass Logisitic Regression\n",
    "    lr = LogisticRegression(C=0.1)\n",
    "    try:\n",
    "        lr.fit(features_train, labels_train)\n",
    "    \n",
    "    # if a user only has emails in a single folder, a ValueError is raised\n",
    "    # this solver needs samples of at least 2 classes in the data, but the data contains only one class\n",
    "    except ValueError:\n",
    "        continue\n",
    "    test_predict_lr = lr.predict(features_test)\n",
    "    score_lr = metrics.accuracy_score(y_true=labels_test, y_pred=test_predict_lr)\n",
    "#     print \"Number of emails is \" + str(len(emails)) + \" for user \" + str(user)\n",
    "#     print \"Number of folders is \" + str(len(lr.classes_)) + \" for user \" + str(user)\n",
    "#     print \"Logistic regression accuracy score is \" + str(score_lr) + \" for user \" + str(user)\n",
    "    \n",
    "    num_users += 1\n",
    "    accuracies.append(score_lr)\n",
    "    num_emails.append(len(emails))\n",
    "    num_folders.append(len(lr.classes_))\n",
    "    \n",
    "print '\\n\\nTotal number of users analyzed == ' + str(num_users)\n",
    "print 'Average accuracy for Logistic Regression: ' + str(np.mean(accuracies))\n",
    "\n",
    "plt.title('Accuracies for all users analyzed')\n",
    "plt.plot(accuracies, 'o')\n",
    "plt.show()\n",
    "\n",
    "plt.title('Accuracy by number of emails per user')\n",
    "plt.plot(num_emails, accuracies, 'o')\n",
    "plt.show()\n",
    "\n",
    "plt.title('Accuracy by number of folders per user')\n",
    "plt.plot(num_folders, accuracies, 'o')\n",
    "plt.show()\n",
    "\n",
    "plt.title('Accuracy by average emails per folder')\n",
    "plt.plot([x/y for x, y in zip(num_emails, num_folders)], accuracies, 'o')\n",
    "plt.show()"
   ]
  },
  {
   "cell_type": "markdown",
   "metadata": {},
   "source": [
    "### Run per-user naive bayes, record accuracy\n",
    "\n",
    "This run includes only subject & people, and uses basic naive bayes"
   ]
  },
  {
   "cell_type": "code",
   "execution_count": 120,
   "metadata": {},
   "outputs": [
    {
     "name": "stdout",
     "output_type": "stream",
     "text": [
      "\n",
      "\n",
      "Total number of users analyzed == 98\n",
      "Average accuracy for Naive Bayes: 0.615251912778\n"
     ]
    },
    {
     "data": {
      "image/png": "[encoded data removed]",
      "text/plain": [
       "<matplotlib.figure.Figure at 0x11d8db310>"
      ]
     },
     "metadata": {},
     "output_type": "display_data"
    },
    {
     "data": {
      "image/png": "[encoded data removed]",
      "text/plain": [
       "<matplotlib.figure.Figure at 0x11f4a7cd0>"
      ]
     },
     "metadata": {},
     "output_type": "display_data"
    },
    {
     "data": {
      "image/png": "[encoded data removed]",
      "text/plain": [
       "<matplotlib.figure.Figure at 0x157650f90>"
      ]
     },
     "metadata": {},
     "output_type": "display_data"
    },
    {
     "data": {
      "image/png": "[encoded data removed]",
      "text/plain": [
       "<matplotlib.figure.Figure at 0x11faa1790>"
      ]
     },
     "metadata": {},
     "output_type": "display_data"
    }
   ],
   "source": [
    "from sklearn.feature_extraction.text import CountVectorizer\n",
    "from sklearn.feature_extraction.text import TfidfTransformer\n",
    "from sklearn.model_selection import train_test_split\n",
    "from sklearn import metrics\n",
    "import scipy\n",
    "import numpy as np\n",
    "from sklearn.naive_bayes import MultinomialNB\n",
    "import matplotlib.pyplot as plt\n",
    "from __future__ import division\n",
    "\n",
    "def people_tokenizer(s):\n",
    "    people = s.split(',')\n",
    "    return filter(None, people)\n",
    "\n",
    "min_email_threshold = 100\n",
    "\n",
    "num_users = 0\n",
    "accuracies = []\n",
    "num_folders = []\n",
    "num_emails = []\n",
    "for user, emails in user_groups:\n",
    "    \n",
    "#     print '\\n' + str(user) + ' has ' + str(len(emails)) + ' emails in the data set.'\n",
    "#     print '-----------------------------------------------------------------'\n",
    "    \n",
    "    # skip over any users with too few emails to analyze\n",
    "    if len(emails) < min_email_threshold:\n",
    "        continue\n",
    "        \n",
    "    # Perform bag of words vectorization on Subject\n",
    "    sub_vect = CountVectorizer(stop_words='english', lowercase=True)\n",
    "    counts = sub_vect.fit_transform(emails['subject'])\n",
    "#     print 'Dimensions of subject vocabulary feature matrix are: ' + str(counts.shape)\n",
    "\n",
    "    # Convert Subject from bools to tf-idf values\n",
    "    tfidf_transformer = TfidfTransformer()\n",
    "    tfidf = tfidf_transformer.fit_transform(counts)\n",
    "\n",
    "    # Convert people column into email address counts\n",
    "    people_vec = CountVectorizer(lowercase=True, tokenizer=people_tokenizer)\n",
    "    people_counts = people_vec.fit_transform(emails['people'])\n",
    "#     print 'Dimensions of people feature matrix are: ' + str(people_counts.shape)\n",
    "\n",
    "    # Merge people counts with subject tf-idf\n",
    "    feature_matrix = scipy.sparse.hstack([people_counts, tfidf])\n",
    "#     print 'Dimensions of vectorized feature matrix: ' + str(feature_matrix.shape)\n",
    "    \n",
    "    # Split into training & test sets\n",
    "    labels_train, labels_test, features_train, features_test = train_test_split(\n",
    "        emails['folder'], feature_matrix, test_size=0.20, random_state=42)\n",
    "#     print 'Size of training feature matrix: ' + str(features_train.shape)\n",
    "#     print 'Size of test feature matrix: ' + str(features_test.shape)\n",
    "    \n",
    "    ### Multinomial Naive Bayes\n",
    "    mnb = MultinomialNB(alpha=0.1)\n",
    "    mnb.fit(features_train, labels_train)\n",
    "    test_predict_mnb = mnb.predict(features_test)\n",
    "    score_mnb = metrics.accuracy_score(labels_test, test_predict_mnb)\n",
    "#     print \"Number of emails is \" + str(len(emails)) + \" for user \" + str(user)\n",
    "#     print \"Number of folders is \" + str(len(lr.classes_)) + \" for user \" + str(user)\n",
    "#     print \"Multinomial Naive Bayes accuracy score is: \" + str(score_mnb)\n",
    "        \n",
    "    num_users += 1\n",
    "    accuracies.append(score_mnb)\n",
    "    num_emails.append(len(emails))\n",
    "    num_folders.append(len(mnb.classes_))\n",
    "    \n",
    "print '\\n\\nTotal number of users analyzed == ' + str(num_users)\n",
    "print 'Average accuracy for Naive Bayes: ' + str(np.mean(accuracies))\n",
    "\n",
    "plt.title('Accuracies for all users analyzed')\n",
    "plt.plot(accuracies, 'o')\n",
    "plt.show()\n",
    "\n",
    "plt.title('Accuracy by number of emails per user')\n",
    "plt.plot(num_emails, accuracies, 'o')\n",
    "plt.show()\n",
    "\n",
    "plt.title('Accuracy by number of folders per user')\n",
    "plt.plot(num_folders, accuracies, 'o')\n",
    "plt.show()\n",
    "\n",
    "plt.title('Accuracy by average emails per folder')\n",
    "plt.plot([x/y for x, y in zip(num_emails, num_folders)], accuracies, 'o')\n",
    "plt.show()"
   ]
  },
  {
   "cell_type": "markdown",
   "metadata": {},
   "source": [
    "### Run per-user models, compare accuracies\n",
    "\n",
    "This run includes only subject & people, and commpares logisitic regression to naive bayes for each user"
   ]
  },
  {
   "cell_type": "code",
   "execution_count": 123,
   "metadata": {},
   "outputs": [
    {
     "name": "stdout",
     "output_type": "stream",
     "text": [
      "\n",
      "\n",
      "Total number of users analyzed == 97\n",
      "Average accuracy: 0.639878147778\n"
     ]
    },
    {
     "data": {
      "image/png": "[encoded data removed]",
      "text/plain": [
       "<matplotlib.figure.Figure at 0x157161490>"
      ]
     },
     "metadata": {},
     "output_type": "display_data"
    },
    {
     "data": {
      "image/png": "[encoded data removed]",
      "text/plain": [
       "<matplotlib.figure.Figure at 0x11ef23d10>"
      ]
     },
     "metadata": {},
     "output_type": "display_data"
    }
   ],
   "source": [
    "from sklearn.feature_extraction.text import CountVectorizer\n",
    "from sklearn.feature_extraction.text import TfidfTransformer\n",
    "from sklearn.model_selection import train_test_split\n",
    "from sklearn import metrics\n",
    "import scipy\n",
    "import numpy as np\n",
    "from sklearn.naive_bayes import MultinomialNB\n",
    "import matplotlib.pyplot as plt\n",
    "from __future__ import division\n",
    "\n",
    "def people_tokenizer(s):\n",
    "    people = s.split(',')\n",
    "    return filter(None, people)\n",
    "\n",
    "min_email_threshold = 100\n",
    "\n",
    "num_users = 0\n",
    "accuracies = []\n",
    "num_folders = []\n",
    "num_emails = []\n",
    "best_models = []\n",
    "for user, emails in user_groups:\n",
    "    \n",
    "    # skip over any users with too few emails to analyze\n",
    "    if len(emails) < min_email_threshold:\n",
    "        continue\n",
    "        \n",
    "    # Perform bag of words vectorization on Subject\n",
    "    sub_vect = CountVectorizer(stop_words='english', lowercase=True)\n",
    "    counts = sub_vect.fit_transform(emails['subject'])\n",
    "\n",
    "    # Convert Subject from bools to tf-idf values\n",
    "    tfidf_transformer = TfidfTransformer()\n",
    "    tfidf = tfidf_transformer.fit_transform(counts)\n",
    "\n",
    "    # Convert people column into email address counts\n",
    "    people_vec = CountVectorizer(lowercase=True, tokenizer=people_tokenizer)\n",
    "    people_counts = people_vec.fit_transform(emails['people'])\n",
    "\n",
    "    # Merge people counts with subject tf-idf\n",
    "    feature_matrix = scipy.sparse.hstack([people_counts, tfidf])\n",
    "    \n",
    "    # Split into training & test sets\n",
    "    labels_train, labels_test, features_train, features_test = train_test_split(\n",
    "        emails['folder'], feature_matrix, test_size=0.20, random_state=42)\n",
    "\n",
    "    # Multiclass Logisitic Regression\n",
    "    lr = LogisticRegression(C=0.1)\n",
    "    try:\n",
    "        lr.fit(features_train, labels_train)\n",
    "    \n",
    "    # if a user only has emails in a single folder, a ValueError is raised\n",
    "    # this solver needs samples of at least 2 classes in the data, but the data contains only one class\n",
    "    except ValueError:\n",
    "        continue\n",
    "    test_predict_lr = lr.predict(features_test)\n",
    "    score_lr = metrics.accuracy_score(y_true=labels_test, y_pred=test_predict_lr)\n",
    "    \n",
    "    ### Multinomial Naive Bayes\n",
    "    mnb = MultinomialNB(alpha=0.1)\n",
    "    mnb.fit(features_train, labels_train)\n",
    "    test_predict_mnb = mnb.predict(features_test)\n",
    "    score_mnb = metrics.accuracy_score(labels_test, test_predict_mnb)\n",
    "        \n",
    "    best_models.append((0 if score_lr > score_mnb else 1))    \n",
    "        \n",
    "    num_users += 1\n",
    "    accuracies.append((score_lr if score_lr > score_mnb else score_mnb))\n",
    "    num_emails.append(len(emails))\n",
    "    num_folders.append(len(mnb.classes_))\n",
    "    \n",
    "print '\\n\\nTotal number of users analyzed == ' + str(num_users)\n",
    "print 'Average accuracy: ' + str(np.mean(accuracies))\n",
    "\n",
    "plt.title('Accuracies for all users analyzed')\n",
    "plt.plot(accuracies, 'o')\n",
    "plt.show()\n",
    "\n",
    "plt.title('Users by best model (accuracy)')\n",
    "plt.hist(best_models)\n",
    "plt.show()"
   ]
  }
 ],
 "metadata": {
  "kernelspec": {
   "display_name": "Python 2",
   "language": "python",
   "name": "python2"
  },
  "language_info": {
   "codemirror_mode": {
    "name": "ipython",
    "version": 2
   },
   "file_extension": ".py",
   "mimetype": "text/x-python",
   "name": "python",
   "nbconvert_exporter": "python",
   "pygments_lexer": "ipython2",
   "version": "2.7.13"
  }
 },
 "nbformat": 4,
 "nbformat_minor": 2
}
